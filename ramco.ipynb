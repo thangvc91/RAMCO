{
 "cells": [
  {
   "cell_type": "code",
   "execution_count": null,
   "id": "6a7242bb",
   "metadata": {},
   "outputs": [
    {
     "ename": "TimeoutException",
     "evalue": "Message: \nStacktrace:\n\tGetHandleVerifier [0x0x7ff63bd9e415+77285]\n\tGetHandleVerifier [0x0x7ff63bd9e470+77376]\n\t(No symbol) [0x0x7ff63bb69a6a]\n\t(No symbol) [0x0x7ff63bbc0406]\n\t(No symbol) [0x0x7ff63bbc06bc]\n\t(No symbol) [0x0x7ff63bc13ac7]\n\t(No symbol) [0x0x7ff63bbe864f]\n\t(No symbol) [0x0x7ff63bc1087f]\n\t(No symbol) [0x0x7ff63bbe83e3]\n\t(No symbol) [0x0x7ff63bbb1521]\n\t(No symbol) [0x0x7ff63bbb22b3]\n\tGetHandleVerifier [0x0x7ff63c081efd+3107021]\n\tGetHandleVerifier [0x0x7ff63c07c29d+3083373]\n\tGetHandleVerifier [0x0x7ff63c09bedd+3213485]\n\tGetHandleVerifier [0x0x7ff63bdb884e+184862]\n\tGetHandleVerifier [0x0x7ff63bdc055f+216879]\n\tGetHandleVerifier [0x0x7ff63bda7084+113236]\n\tGetHandleVerifier [0x0x7ff63bda7239+113673]\n\tGetHandleVerifier [0x0x7ff63bd8e298+11368]\n\tBaseThreadInitThunk [0x0x7ffcfb737374+20]\n\tRtlUserThreadStart [0x0x7ffcfbe7cc91+33]\n",
     "output_type": "error",
     "traceback": [
      "\u001b[31m---------------------------------------------------------------------------\u001b[39m",
      "\u001b[31mTimeoutException\u001b[39m                          Traceback (most recent call last)",
      "\u001b[36mCell\u001b[39m\u001b[36m \u001b[39m\u001b[32mIn[1]\u001b[39m\u001b[32m, line 22\u001b[39m\n\u001b[32m     19\u001b[39m driver.get(\u001b[33m\"\u001b[39m\u001b[33mhttps://ramcoasean.concentrix.com/\u001b[39m\u001b[33m\"\u001b[39m)\n\u001b[32m     21\u001b[39m \u001b[38;5;66;03m# Wait for the page to load (you can use WebDriverWait for better control)\u001b[39;00m\n\u001b[32m---> \u001b[39m\u001b[32m22\u001b[39m \u001b[43mWebDriverWait\u001b[49m\u001b[43m(\u001b[49m\u001b[43mdriver\u001b[49m\u001b[43m,\u001b[49m\u001b[43m \u001b[49m\u001b[32;43m20\u001b[39;49m\u001b[43m)\u001b[49m\u001b[43m.\u001b[49m\u001b[43muntil\u001b[49m\u001b[43m(\u001b[49m\n\u001b[32m     23\u001b[39m \u001b[43m    \u001b[49m\u001b[43mEC\u001b[49m\u001b[43m.\u001b[49m\u001b[43mpresence_of_element_located\u001b[49m\u001b[43m(\u001b[49m\u001b[43m(\u001b[49m\u001b[43mBy\u001b[49m\u001b[43m.\u001b[49m\u001b[43mID\u001b[49m\u001b[43m,\u001b[49m\u001b[43m \u001b[49m\u001b[33;43m\"\u001b[39;49m\u001b[33;43mbtnhrbook1_inbtn-button-1545-btnInnerEl\u001b[39;49m\u001b[33;43m\"\u001b[39;49m\u001b[43m)\u001b[49m\u001b[43m)\u001b[49m\n\u001b[32m     24\u001b[39m \u001b[43m)\u001b[49m   \n\u001b[32m     26\u001b[39m \u001b[38;5;66;03m# Locate the element by its ID\u001b[39;00m\n\u001b[32m     27\u001b[39m \u001b[38;5;66;03m# element = driver.find_element(By.ID, \"btnhrbook1_inbtn-button-1545-btnInnerEl\")\u001b[39;00m\n\u001b[32m     28\u001b[39m \n\u001b[32m   (...)\u001b[39m\u001b[32m     32\u001b[39m \u001b[38;5;66;03m# Optional: close the browser\u001b[39;00m\n\u001b[32m     33\u001b[39m \u001b[38;5;66;03m# driver.quit()\u001b[39;00m\n",
      "\u001b[36mFile \u001b[39m\u001b[32mc:\\Python313\\Lib\\site-packages\\selenium\\webdriver\\support\\wait.py:138\u001b[39m, in \u001b[36mWebDriverWait.until\u001b[39m\u001b[34m(self, method, message)\u001b[39m\n\u001b[32m    136\u001b[39m         \u001b[38;5;28;01mbreak\u001b[39;00m\n\u001b[32m    137\u001b[39m     time.sleep(\u001b[38;5;28mself\u001b[39m._poll)\n\u001b[32m--> \u001b[39m\u001b[32m138\u001b[39m \u001b[38;5;28;01mraise\u001b[39;00m TimeoutException(message, screen, stacktrace)\n",
      "\u001b[31mTimeoutException\u001b[39m: Message: \nStacktrace:\n\tGetHandleVerifier [0x0x7ff63bd9e415+77285]\n\tGetHandleVerifier [0x0x7ff63bd9e470+77376]\n\t(No symbol) [0x0x7ff63bb69a6a]\n\t(No symbol) [0x0x7ff63bbc0406]\n\t(No symbol) [0x0x7ff63bbc06bc]\n\t(No symbol) [0x0x7ff63bc13ac7]\n\t(No symbol) [0x0x7ff63bbe864f]\n\t(No symbol) [0x0x7ff63bc1087f]\n\t(No symbol) [0x0x7ff63bbe83e3]\n\t(No symbol) [0x0x7ff63bbb1521]\n\t(No symbol) [0x0x7ff63bbb22b3]\n\tGetHandleVerifier [0x0x7ff63c081efd+3107021]\n\tGetHandleVerifier [0x0x7ff63c07c29d+3083373]\n\tGetHandleVerifier [0x0x7ff63c09bedd+3213485]\n\tGetHandleVerifier [0x0x7ff63bdb884e+184862]\n\tGetHandleVerifier [0x0x7ff63bdc055f+216879]\n\tGetHandleVerifier [0x0x7ff63bda7084+113236]\n\tGetHandleVerifier [0x0x7ff63bda7239+113673]\n\tGetHandleVerifier [0x0x7ff63bd8e298+11368]\n\tBaseThreadInitThunk [0x0x7ffcfb737374+20]\n\tRtlUserThreadStart [0x0x7ffcfbe7cc91+33]\n"
     ]
    }
   ],
   "source": [
    "from selenium import webdriver\n",
    "from selenium.webdriver.chrome.options import Options\n",
    "from selenium.webdriver.common.by import By\n",
    "from selenium.webdriver.support.ui import WebDriverWait\n",
    "from selenium.webdriver.support import expected_conditions as EC\n",
    "import time\n",
    "chrome_options = Options()\n",
    "# chrome_options.add_argument(r'--user-data-dir=C:\\Users\\admin\\AppData\\Local\\Google\\Chrome\\User Data\\Profile 1')  # Path to your Chrome profile\n",
    "chrome_options.add_argument(r'--user-data-dir=C:\\Users\\Administrator\\AppData\\Local\\Google\\Chrome\\User Data\\Default')  # Path to your Chrome profile\n",
    "\n",
    "# Optionally, specify your profile directory if you use multiple profiles:\n",
    "# chrome_options.add_argument(r'--profile-directory=Default')  # Or 'Profile 1', etc.\n",
    "\n",
    "driver = webdriver.Chrome(options=chrome_options)\n",
    "# Set up the driver (make sure you have the correct driver for your browser)\n",
    "# driver = webdriver.Chrome()  # or webdriver.Firefox(), etc.\n",
    "\n",
    "# Open the target webpage\n",
    "driver.get(\"https://ramcoasean.concentrix.com/RVW/hub/index.html?RVWRTQS_CRQID=&RVWRTQS_ISSSO=1&_dc=1755296048061&RVWRTQS_REQID=578fab5b-a2ea-45e7-bbba-dbe7d0988af7\")\n",
    "\n",
    "# Wait for the page to load (you can use WebDriverWait for better control)\n",
    "WebDriverWait(driver, 20).until(\n",
    "    EC.presence_of_element_located((By.ID, \"btnhrbook1_inbtn-button-1545-btnInnerEl\"))\n",
    ")   \n",
    "\n",
    "# Locate the element by its ID\n",
    "# element = driver.find_element(By.ID, \"btnhrbook1_inbtn-button-1545-btnInnerEl\")\n",
    "\n",
    "# Click the element\n",
    "# element.click()\n",
    "\n",
    "# Optional: close the browser\n",
    "# driver.quit()\n"
   ]
  }
 ],
 "metadata": {
  "kernelspec": {
   "display_name": "Python 3",
   "language": "python",
   "name": "python3"
  },
  "language_info": {
   "codemirror_mode": {
    "name": "ipython",
    "version": 3
   },
   "file_extension": ".py",
   "mimetype": "text/x-python",
   "name": "python",
   "nbconvert_exporter": "python",
   "pygments_lexer": "ipython3",
   "version": "3.13.5"
  }
 },
 "nbformat": 4,
 "nbformat_minor": 5
}
